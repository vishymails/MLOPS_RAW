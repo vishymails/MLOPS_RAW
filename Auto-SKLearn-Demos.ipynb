{
 "cells": [
  {
   "cell_type": "markdown",
   "metadata": {
    "id": "MbbJJLISskH8"
   },
   "source": [
    "### Install AutoKeras\n",
    "Uncomment the following code if Autokeras is not intalled yet"
   ]
  },
  {
   "cell_type": "code",
   "execution_count": null,
   "metadata": {
    "id": "d7NkVTsA2vLt"
   },
   "outputs": [],
   "source": [
    "#!pip install autokeras"
   ]
  },
  {
   "cell_type": "markdown",
   "metadata": {
    "id": "Fq3JaeHG9Z1o"
   },
   "source": [
    "### Getting the Articles dataset\n",
    "This notebook estimates the popularity score of an article on social media platforms,\n",
    "trained on a [News Popularity](https://archive.ics.uci.edu/ml/datasets/News+Popularity+in+Multiple+Social+Media+Platforms) dataset collected from 2015-2016."
   ]
  },
  {
   "cell_type": "code",
   "execution_count": null,
   "metadata": {
    "id": "UQuRQ5QohljX"
   },
   "outputs": [],
   "source": [
    "import pandas as pd\n",
    "import numpy as np\n",
    "import tensorflow as tf\n",
    "import autokeras as ak\n",
    "\n",
    "news_df = pd.read_csv(\"https://archive.ics.uci.edu/ml/machine-learning-databases/00432/Data/News_Final.csv\")"
   ]
  },
  {
   "cell_type": "markdown",
   "metadata": {
    "id": "e6OeMiKADdHD"
   },
   "source": [
    "###Showing some samples"
   ]
  },
  {
   "cell_type": "code",
   "execution_count": null,
   "metadata": {
    "colab": {
     "base_uri": "https://localhost:8080/",
     "height": 597
    },
    "id": "0Igw93D74G33",
    "outputId": "147ef9ee-1180-44f9-be69-2884cb850fdb"
   },
   "outputs": [
    {
     "data": {
      "text/html": [
       "<div>\n",
       "<style scoped>\n",
       "    .dataframe tbody tr th:only-of-type {\n",
       "        vertical-align: middle;\n",
       "    }\n",
       "\n",
       "    .dataframe tbody tr th {\n",
       "        vertical-align: top;\n",
       "    }\n",
       "\n",
       "    .dataframe thead th {\n",
       "        text-align: right;\n",
       "    }\n",
       "</style>\n",
       "<table border=\"1\" class=\"dataframe\">\n",
       "  <thead>\n",
       "    <tr style=\"text-align: right;\">\n",
       "      <th></th>\n",
       "      <th>IDLink</th>\n",
       "      <th>Title</th>\n",
       "      <th>Headline</th>\n",
       "      <th>Source</th>\n",
       "      <th>Topic</th>\n",
       "      <th>PublishDate</th>\n",
       "      <th>SentimentTitle</th>\n",
       "      <th>SentimentHeadline</th>\n",
       "      <th>Facebook</th>\n",
       "      <th>GooglePlus</th>\n",
       "      <th>LinkedIn</th>\n",
       "    </tr>\n",
       "  </thead>\n",
       "  <tbody>\n",
       "    <tr>\n",
       "      <th>732</th>\n",
       "      <td>299.0</td>\n",
       "      <td>Microsoft’s OneDrive debacle shows its cloud c...</td>\n",
       "      <td>When Microsoft announced earlier this week tha...</td>\n",
       "      <td>Digital Trends via Yahoo! News</td>\n",
       "      <td>microsoft</td>\n",
       "      <td>2015-11-08 12:15:00</td>\n",
       "      <td>-0.166139</td>\n",
       "      <td>-0.259052</td>\n",
       "      <td>6</td>\n",
       "      <td>0</td>\n",
       "      <td>1</td>\n",
       "    </tr>\n",
       "    <tr>\n",
       "      <th>734</th>\n",
       "      <td>294.0</td>\n",
       "      <td>‘Economy to improve in next 2 quarters’</td>\n",
       "      <td>In the coming six months, there seems to be gr...</td>\n",
       "      <td>The Hindu</td>\n",
       "      <td>economy</td>\n",
       "      <td>2015-11-08 12:54:00</td>\n",
       "      <td>0.114820</td>\n",
       "      <td>0.256116</td>\n",
       "      <td>2</td>\n",
       "      <td>0</td>\n",
       "      <td>3</td>\n",
       "    </tr>\n",
       "    <tr>\n",
       "      <th>736</th>\n",
       "      <td>292.0</td>\n",
       "      <td>Get ready for a ton of Fedspeak (DJIA, SPY, SP...</td>\n",
       "      <td>The US economy had a blockbuster October. US c...</td>\n",
       "      <td>Business Insider</td>\n",
       "      <td>economy</td>\n",
       "      <td>2015-11-08 13:07:00</td>\n",
       "      <td>-0.055902</td>\n",
       "      <td>-0.378927</td>\n",
       "      <td>27</td>\n",
       "      <td>2</td>\n",
       "      <td>22</td>\n",
       "    </tr>\n",
       "    <tr>\n",
       "      <th>738</th>\n",
       "      <td>328.0</td>\n",
       "      <td>Microsoft to play a big part in Digital India</td>\n",
       "      <td>Bhaskar Pramanik, Chairman, Microsoft India, s...</td>\n",
       "      <td>DNA India</td>\n",
       "      <td>microsoft</td>\n",
       "      <td>2015-11-08 16:47:00</td>\n",
       "      <td>-0.018326</td>\n",
       "      <td>0.062500</td>\n",
       "      <td>11</td>\n",
       "      <td>1</td>\n",
       "      <td>1</td>\n",
       "    </tr>\n",
       "    <tr>\n",
       "      <th>741</th>\n",
       "      <td>201.0</td>\n",
       "      <td>Dollar Goes From Savior to Scapegoat as Zimbab...</td>\n",
       "      <td>Zimbabwe freed its economy from the nightmare ...</td>\n",
       "      <td>Bloomberg</td>\n",
       "      <td>economy</td>\n",
       "      <td>2015-11-08 20:41:00</td>\n",
       "      <td>-0.079057</td>\n",
       "      <td>0.000000</td>\n",
       "      <td>61</td>\n",
       "      <td>0</td>\n",
       "      <td>32</td>\n",
       "    </tr>\n",
       "    <tr>\n",
       "      <th>...</th>\n",
       "      <td>...</td>\n",
       "      <td>...</td>\n",
       "      <td>...</td>\n",
       "      <td>...</td>\n",
       "      <td>...</td>\n",
       "      <td>...</td>\n",
       "      <td>...</td>\n",
       "      <td>...</td>\n",
       "      <td>...</td>\n",
       "      <td>...</td>\n",
       "      <td>...</td>\n",
       "    </tr>\n",
       "    <tr>\n",
       "      <th>93222</th>\n",
       "      <td>61866.0</td>\n",
       "      <td>Microsoft operating chief Kevin Turner is leav...</td>\n",
       "      <td>Kevin Turner, the former Walmart executive who...</td>\n",
       "      <td>Recode</td>\n",
       "      <td>microsoft</td>\n",
       "      <td>2016-07-07 14:20:11</td>\n",
       "      <td>0.037689</td>\n",
       "      <td>-0.052129</td>\n",
       "      <td>-1</td>\n",
       "      <td>4</td>\n",
       "      <td>16</td>\n",
       "    </tr>\n",
       "    <tr>\n",
       "      <th>93224</th>\n",
       "      <td>61839.0</td>\n",
       "      <td>Microsoft set a new record by storing an OK Go...</td>\n",
       "      <td>Microsoft announced on Thursday that it has se...</td>\n",
       "      <td>Business Insider</td>\n",
       "      <td>microsoft</td>\n",
       "      <td>2016-07-07 14:27:11</td>\n",
       "      <td>-0.122161</td>\n",
       "      <td>0.118732</td>\n",
       "      <td>-1</td>\n",
       "      <td>3</td>\n",
       "      <td>27</td>\n",
       "    </tr>\n",
       "    <tr>\n",
       "      <th>93229</th>\n",
       "      <td>61849.0</td>\n",
       "      <td>Read Microsoft's Cringeworthy Millennial-Bait ...</td>\n",
       "      <td>For any corporate recruiter thinking about add...</td>\n",
       "      <td>Fortune</td>\n",
       "      <td>microsoft</td>\n",
       "      <td>2016-07-07 15:06:11</td>\n",
       "      <td>0.051031</td>\n",
       "      <td>0.178885</td>\n",
       "      <td>-1</td>\n",
       "      <td>0</td>\n",
       "      <td>6</td>\n",
       "    </tr>\n",
       "    <tr>\n",
       "      <th>93234</th>\n",
       "      <td>61851.0</td>\n",
       "      <td>Stocks rise as investors key in on US economy ...</td>\n",
       "      <td>The June employment report is viewed as a cruc...</td>\n",
       "      <td>MarketWatch</td>\n",
       "      <td>economy</td>\n",
       "      <td>2016-07-07 15:31:05</td>\n",
       "      <td>0.104284</td>\n",
       "      <td>0.044943</td>\n",
       "      <td>-1</td>\n",
       "      <td>3</td>\n",
       "      <td>5</td>\n",
       "    </tr>\n",
       "    <tr>\n",
       "      <th>93235</th>\n",
       "      <td>61865.0</td>\n",
       "      <td>Russian PM proposes to use conservative and to...</td>\n",
       "      <td>In addition, establish stimulating economic po...</td>\n",
       "      <td>TASS</td>\n",
       "      <td>economy</td>\n",
       "      <td>2016-07-07 15:31:10</td>\n",
       "      <td>0.072194</td>\n",
       "      <td>0.000000</td>\n",
       "      <td>-1</td>\n",
       "      <td>0</td>\n",
       "      <td>1</td>\n",
       "    </tr>\n",
       "  </tbody>\n",
       "</table>\n",
       "<p>37640 rows × 11 columns</p>\n",
       "</div>"
      ],
      "text/plain": [
       "        IDLink  ... LinkedIn\n",
       "732      299.0  ...        1\n",
       "734      294.0  ...        3\n",
       "736      292.0  ...       22\n",
       "738      328.0  ...        1\n",
       "741      201.0  ...       32\n",
       "...        ...  ...      ...\n",
       "93222  61866.0  ...       16\n",
       "93224  61839.0  ...       27\n",
       "93229  61849.0  ...        6\n",
       "93234  61851.0  ...        5\n",
       "93235  61865.0  ...        1\n",
       "\n",
       "[37640 rows x 11 columns]"
      ]
     },
     "execution_count": 8,
     "metadata": {
      "tags": []
     },
     "output_type": "execute_result"
    }
   ],
   "source": [
    "news_df"
   ]
  },
  {
   "cell_type": "markdown",
   "metadata": {
    "id": "3KTa3e3MTJMy"
   },
   "source": [
    "\n",
    "### Data preprocessing\n",
    "As we want to estimate the popularity score (number) based on its title and headline we will use a regressor, but first, we have to prepare the text data a suitable format.\n"
   ]
  },
  {
   "cell_type": "code",
   "execution_count": null,
   "metadata": {
    "id": "OjUslkqLukm1"
   },
   "outputs": [],
   "source": [
    "# converting from other formats (such as pandas) to numpy\n",
    "text_inputs = np.array(news_df.Title+ \". \" + news_df.Headline).astype(\"str\")\n",
    "media_success_outputs = news_df.LinkedIn.to_numpy(dtype=\"int\")"
   ]
  },
  {
   "cell_type": "markdown",
   "metadata": {
    "id": "bLy74qKju2Lf"
   },
   "source": [
    "### Creating the data sets"
   ]
  },
  {
   "cell_type": "code",
   "execution_count": null,
   "metadata": {
    "id": "bbxsx5Y7u2YA"
   },
   "outputs": [],
   "source": [
    "# Split the dataset in a train and test set\n",
    "from sklearn.model_selection import train_test_split\n",
    "x_train, x_test, y_train, y_test = train_test_split(text_inputs, media_success_outputs, test_size = 0.2, random_state = 10)"
   ]
  },
  {
   "cell_type": "markdown",
   "metadata": {
    "id": "7CgvSBr993W1"
   },
   "source": [
    "### Creating and training the models"
   ]
  },
  {
   "cell_type": "code",
   "execution_count": null,
   "metadata": {
    "colab": {
     "base_uri": "https://localhost:8080/"
    },
    "id": "bO4VXHGY4AIz",
    "outputId": "93960c0f-733a-4f0c-aaba-7978176a6232"
   },
   "outputs": [
    {
     "name": "stdout",
     "output_type": "stream",
     "text": [
      "Trial 2 Complete [00h 03m 44s]\n",
      "val_loss: 14726.8974609375\n",
      "\n",
      "Best val_loss So Far: 14726.8974609375\n",
      "Total elapsed time: 00h 07m 11s\n",
      "INFO:tensorflow:Oracle triggered exit\n",
      "Epoch 1/9\n",
      "2331/2331 [==============================] - 23s 10ms/step - loss: 25841.2314 - mean_squared_error: 25841.2314\n",
      "Epoch 2/9\n",
      "2331/2331 [==============================] - 22s 9ms/step - loss: 25266.0573 - mean_squared_error: 25266.0573\n",
      "Epoch 3/9\n",
      "2331/2331 [==============================] - 22s 9ms/step - loss: 25201.4815 - mean_squared_error: 25201.4815\n",
      "Epoch 4/9\n",
      "2331/2331 [==============================] - 22s 9ms/step - loss: 24630.7472 - mean_squared_error: 24630.7472\n",
      "Epoch 5/9\n",
      "2331/2331 [==============================] - 22s 10ms/step - loss: 22843.2585 - mean_squared_error: 22843.2585\n",
      "Epoch 6/9\n",
      "2331/2331 [==============================] - 22s 10ms/step - loss: 20687.3622 - mean_squared_error: 20687.3622\n",
      "Epoch 7/9\n",
      "2331/2331 [==============================] - 22s 10ms/step - loss: 17115.8473 - mean_squared_error: 17115.8473\n",
      "Epoch 8/9\n",
      "2331/2331 [==============================] - 23s 10ms/step - loss: 10369.0446 - mean_squared_error: 10369.0446\n",
      "Epoch 9/9\n",
      "2331/2331 [==============================] - 23s 10ms/step - loss: 19128.3602 - mean_squared_error: 19128.3602\n",
      "INFO:tensorflow:Assets written to: ./text_regressor/best_model/assets\n"
     ]
    }
   ],
   "source": [
    "# Initialize the text regressor\n",
    "reg = ak.TextRegressor(max_trials=2) # AutoKeras tries different models.\n",
    "\n",
    "# Callback to avoid overfitting with the EarlyStopping.\n",
    "cbs = [\n",
    "    tf.keras.callbacks.EarlyStopping(patience=2),\n",
    "]\n",
    "\n",
    "# Search for the best model.\n",
    "reg.fit(\n",
    "    x_train,\n",
    "    y_train,\n",
    "    callbacks=cbs\n",
    ")"
   ]
  },
  {
   "cell_type": "markdown",
   "metadata": {
    "id": "7BF5OpQr-IEf"
   },
   "source": [
    "### Evaluating the best model"
   ]
  },
  {
   "cell_type": "code",
   "execution_count": null,
   "metadata": {
    "colab": {
     "base_uri": "https://localhost:8080/"
    },
    "id": "vQ-O7DwsvEgb",
    "outputId": "bec22cb4-85fb-4088-9d9b-a79d736a77d6"
   },
   "outputs": [
    {
     "name": "stdout",
     "output_type": "stream",
     "text": [
      "583/583 [==============================] - 3s 5ms/step - loss: 13944.2070 - mean_squared_error: 13944.2070\n"
     ]
    },
    {
     "data": {
      "text/plain": [
       "[13944.20703125, 13944.20703125]"
      ]
     },
     "execution_count": 13,
     "metadata": {
      "tags": []
     },
     "output_type": "execute_result"
    }
   ],
   "source": [
    "reg.evaluate(x_test, y_test)"
   ]
  },
  {
   "cell_type": "markdown",
   "metadata": {
    "id": "x9fBpSjh3DKi"
   },
   "source": [
    "###Visualizing the model"
   ]
  },
  {
   "cell_type": "code",
   "execution_count": null,
   "metadata": {
    "colab": {
     "base_uri": "https://localhost:8080/"
    },
    "id": "odyNSFuZ3IR4",
    "outputId": "34e328c7-5d35-406d-93cb-9bf66ebaa75c"
   },
   "outputs": [
    {
     "name": "stdout",
     "output_type": "stream",
     "text": [
      "WARNING:tensorflow:6 out of the last 6 calls to <function recreate_function.<locals>.restored_function_body at 0x7f2d6ce139d8> triggered tf.function retracing. Tracing is expensive and the excessive number of tracings could be due to (1) creating @tf.function repeatedly in a loop, (2) passing tensors with different shapes, (3) passing Python objects instead of tensors. For (1), please define your @tf.function outside of the loop. For (2), @tf.function has experimental_relax_shapes=True option that relaxes argument shapes that can avoid unnecessary retracing. For (3), please refer to https://www.tensorflow.org/guide/function#controlling_retracing and https://www.tensorflow.org/api_docs/python/tf/function for  more details.\n",
      "Model: \"model\"\n",
      "_________________________________________________________________\n",
      "Layer (type)                 Output Shape              Param #   \n",
      "=================================================================\n",
      "input_1 (InputLayer)         [(None,)]                 0         \n",
      "_________________________________________________________________\n",
      "expand_last_dim (ExpandLastD (None, 1)                 0         \n",
      "_________________________________________________________________\n",
      "text_vectorization (TextVect (None, 64)                0         \n",
      "_________________________________________________________________\n",
      "embedding (Embedding)        (None, 64, 32)            160032    \n",
      "_________________________________________________________________\n",
      "dropout (Dropout)            (None, 64, 32)            0         \n",
      "_________________________________________________________________\n",
      "conv1d (Conv1D)              (None, 62, 32)            3104      \n",
      "_________________________________________________________________\n",
      "conv1d_1 (Conv1D)            (None, 60, 32)            3104      \n",
      "_________________________________________________________________\n",
      "max_pooling1d (MaxPooling1D) (None, 30, 32)            0         \n",
      "_________________________________________________________________\n",
      "conv1d_2 (Conv1D)            (None, 28, 32)            3104      \n",
      "_________________________________________________________________\n",
      "conv1d_3 (Conv1D)            (None, 26, 32)            3104      \n",
      "_________________________________________________________________\n",
      "max_pooling1d_1 (MaxPooling1 (None, 13, 32)            0         \n",
      "_________________________________________________________________\n",
      "flatten (Flatten)            (None, 416)               0         \n",
      "_________________________________________________________________\n",
      "dense (Dense)                (None, 32)                13344     \n",
      "_________________________________________________________________\n",
      "re_lu (ReLU)                 (None, 32)                0         \n",
      "_________________________________________________________________\n",
      "dense_1 (Dense)              (None, 32)                1056      \n",
      "_________________________________________________________________\n",
      "re_lu_1 (ReLU)               (None, 32)                0         \n",
      "_________________________________________________________________\n",
      "regression_head_1 (Dense)    (None, 1)                 33        \n",
      "=================================================================\n",
      "Total params: 186,881\n",
      "Trainable params: 186,881\n",
      "Non-trainable params: 0\n",
      "_________________________________________________________________\n"
     ]
    }
   ],
   "source": [
    "# First we export the model to a keras model\n",
    "model = reg.export_model()\n",
    "\n",
    "# Now, we ask for the model Sumary:\n",
    "model.summary()"
   ]
  },
  {
   "cell_type": "markdown",
   "metadata": {
    "id": "NY6AeSP1-bmp"
   },
   "source": [
    "### Predicting some samples"
   ]
  },
  {
   "cell_type": "code",
   "execution_count": null,
   "metadata": {
    "colab": {
     "base_uri": "https://localhost:8080/"
    },
    "id": "CUDaO-6DXgmI",
    "outputId": "e13f7d4e-8307-4169-8f65-4e4dbe84b979"
   },
   "outputs": [
    {
     "name": "stdout",
     "output_type": "stream",
     "text": [
      "('Obama guidance, press schedule March 1, 2016. McConnell, Reid .... President Barack Obama in Rancho Mirage, California where Monday he is hosting an ASEAN meeting. MANDEL NGAN/AFP/Getty Images.', 0, 1.938301)\n",
      "('Microsoft Donates $1 Billion in Cloud Services to Nonprofits .... Microsoft Philanthropies announces a three-year program to put analytics and cloud computing into the hands of 70,000 academic, nonprofit', 11, 55.369102)\n",
      "(\"Douglas Rushkoff Professor of Media Theory and Digital Economics .... That's because the digital economy is hurting the real economy, says media theorist Rushkoff explains more surprising facts about our digital economy in his\", 59, 11.272597)\n",
      "(\"Googling China's Economy Shows Shifting Sentiment. To get a flavor of the changing sentiment on China's economy, look no further than web searches made on Google. \", 0, 24.156607)\n",
      "('Obama presses moves against tax evasion. Washington (AFP) - President Barack Obama said Friday that proposed laws to end the use of US-based anonymous shell companies will help fight tax evasion and money laundering. ', -1, 21.55057)\n",
      "('Putin Blues. Israel has a good working relations with Daesh, too. I was told that Daesh troops entered the Palestinian camp al Yarmuk being equipped with', 5, 10.420358)\n",
      "(\"Microsoft is handing off yet more of its advertising sales business to .... Microsoft has hived off more of its advertising sales business to AppNexus, the world's largest independent ad tech company. AppNexus' publisher suite will now\", 551, 34.37772)\n",
      "('Study shows US could convert its economy to renewable energy .... High-voltage direct current transmission lines could help transfer electricity over long distances much more efficiently and make renewable', 54, 7.5120077)\n",
      "('Molson Coors says low results due to slow economy and high food .... The Molson Coors brewery is seen Wednesday, June 3, 2015 in Montreal. Molson Coors Brewing Co. says a sluggish economy and higher', 0, 2.0468216)\n",
      "(\"Writer Ted Williams Talks Obama, The NRA, Feral Cats And .... I recently caught up with Ted to talk about the growing divide between sportsmen and environmentalists, the NRA, Obama's record on the\", 2, 11.168522)\n",
      "('Microsoft Wallet Lets Windows 10 Mobile Users Tap-To-Pay. Now it looks like Microsoft wants in as well and has since launched Microsoft Wallet which will bring tap-to-pay features to Windows 10 Mobile', 0, 15.493267)\n",
      "('As presidency winds down, President Obama ready to go after eight .... A reflective President Obama, with his presidency winding down, said that as much as he has loved life in the Oval Office, a third term, even if', 0, 4.443066)\n",
      "(\"Fed's John Williams wants low rates, hot economy in 2016. SAN FRANCISCO: The Federal Reserve aims to keep the US economy running hot next year to boost the job market and inflation, a top central\", 1, 5.303426)\n",
      "('How Much Could the US Economy Grow Next Year?. Wells Fargo Chief Economist John Silvia and Strategas Head of Technical Analysis Chris Verrone discuss the U.S economy and the markets.', 0, 7.4676485)\n",
      "(\"Obama's Hopes and Fears, the Future of Music, and More: Today's .... Here at Flavorwire, we pride ourselves on not only writing some of the best content on the Internet, but keeping an eye on all of the great writing\", 0, 18.913591)\n",
      "('Our zeal for antibiotics in agriculture could become an economic .... A display of MRSA bacteria strain inside a petri dish containing agar jelly for bacterial culture in a microbiological laboratory. MRSA is a', 0, 27.097572)\n",
      "('Obama in Canada in late June for N. America summit. US President Barack Obama will travel to Ottawa next month for a &quot;Three Amigos&quot; North American summit with Canadian Prime Minister Justin Trudeau and Mexican President Enrique Pena Nieto, the White House said Wednesday. The White House said Obama will also address a joint session of parliament while in the Canadian capital for the June 29 summit. &quot;The summit is further recognition of the value ', 0, 3.2575614)\n",
      "(\"Former Microsoft CTO says VR/AR at least 'a decade' away from .... Microsoft is currently in the process of creating HoloLens and while the device is a ways off from being released to the public, plenty of buzz\", 0, 7.5912995)\n",
      "('Microsoft teases Project Scorpio: the 6 TFLOPS, 4K60 gaming, VR .... At E3 today, Microsoft announced the next member of the Xbox family: code-name Project Scorpio. The company calls it an uncompromised', 8, 4.0148773)\n",
      "(\"Palestine: After attack, Israel suspends West Bank travel permits. Planned Ramadan visits to East Jerusalem's Al-Aqsa Mosque compound for 500 Palestinian residents of the blockaded Gaza Strip were also\", 0, 3.150125)\n"
     ]
    }
   ],
   "source": [
    "y_predicted = reg.predict(x_test[0:20])\n",
    "for p in list(zip(x_test[0:20], y_test[0:20], [i[0] for i in y_predicted])):\n",
    "    print(p)"
   ]
  },
  {
   "cell_type": "markdown",
   "metadata": {
    "id": "9Pxy_rRUM6-9"
   },
   "source": [
    "### Improving the model search\n",
    "\n",
    "If we need more precision in less time, we can fine-tune our model using an advanced Autokeras feature that allows you to customize your search space. For instance, if your text source has a larger vocabulary (number of distinct words), you may need to create a custom pipeline in AutoKeras to increase the `max_tokens` parameter."
   ]
  },
  {
   "cell_type": "code",
   "execution_count": null,
   "metadata": {
    "colab": {
     "base_uri": "https://localhost:8080/"
    },
    "id": "RqZfWv2Z2cwV",
    "outputId": "45e2c5cf-7a73-4e4a-cc38-c5b53cd71447"
   },
   "outputs": [
    {
     "name": "stdout",
     "output_type": "stream",
     "text": [
      "Trial 2 Complete [00h 03m 49s]\n",
      "val_mean_squared_error: 21457.705078125\n",
      "\n",
      "Best val_mean_squared_error So Far: 21457.705078125\n",
      "Total elapsed time: 00h 09m 43s\n",
      "INFO:tensorflow:Oracle triggered exit\n",
      "Epoch 1/8\n",
      "2331/2331 [==============================] - 23s 9ms/step - loss: 25857.3547 - mean_squared_error: 25857.3547\n",
      "Epoch 2/8\n",
      "2331/2331 [==============================] - 22s 9ms/step - loss: 23085.9080 - mean_squared_error: 23085.9080\n",
      "Epoch 3/8\n",
      "2331/2331 [==============================] - 22s 9ms/step - loss: 16116.2713 - mean_squared_error: 16116.2713\n",
      "Epoch 4/8\n",
      "2331/2331 [==============================] - 22s 9ms/step - loss: 10353.8019 - mean_squared_error: 10353.8019\n",
      "Epoch 5/8\n",
      "2331/2331 [==============================] - 22s 9ms/step - loss: 6209.1096 - mean_squared_error: 6209.1096\n",
      "Epoch 6/8\n",
      "2331/2331 [==============================] - 22s 9ms/step - loss: 14295.8447 - mean_squared_error: 14295.8447\n",
      "Epoch 7/8\n",
      "2331/2331 [==============================] - 22s 9ms/step - loss: 6469.7873 - mean_squared_error: 6469.7873\n",
      "Epoch 8/8\n",
      "2331/2331 [==============================] - 22s 9ms/step - loss: 7064.3094 - mean_squared_error: 7064.3094\n",
      "INFO:tensorflow:Assets written to: ./auto_model/best_model/assets\n"
     ]
    }
   ],
   "source": [
    "# Callback to avoid overfitting with the EarlyStopping.\n",
    "cbs = [tf.keras.callbacks.EarlyStopping(patience=2)]\n",
    "\n",
    "input_node = ak.TextInput()\n",
    "output_node = ak.TextToIntSequence(max_tokens=20000)(input_node)\n",
    "# use ngram as block type\n",
    "output_node = ak.TextBlock(block_type='ngram')(input_node)\n",
    "# regression output\n",
    "output_node = ak.RegressionHead()(output_node)\n",
    "# initialize AutoKeras and find the best model\n",
    "automodel = ak.AutoModel(inputs=input_node, outputs=output_node, \n",
    "                         objective='val_mean_squared_error', max_trials=2)\n",
    "automodel.fit(x_train, y_train, callbacks=cbs)\n"
   ]
  },
  {
   "cell_type": "markdown",
   "metadata": {
    "id": "ykN8Rv4TxCGM"
   },
   "source": [
    "### Evaluate the custom model"
   ]
  },
  {
   "cell_type": "code",
   "execution_count": null,
   "metadata": {
    "colab": {
     "base_uri": "https://localhost:8080/"
    },
    "id": "3ybm1YepLtX_",
    "outputId": "19c4ba7e-b2a5-472a-a64f-e2f9f736b8e6"
   },
   "outputs": [
    {
     "name": "stdout",
     "output_type": "stream",
     "text": [
      "583/583 [==============================] - 6s 9ms/step - loss: 13508.9316 - mean_squared_error: 13508.9316\n"
     ]
    },
    {
     "data": {
      "text/plain": [
       "[13508.931640625, 13508.931640625]"
      ]
     },
     "execution_count": 15,
     "metadata": {
      "tags": []
     },
     "output_type": "execute_result"
    }
   ],
   "source": [
    "# Evaluate the custom model with testing data\n",
    "automodel.evaluate(x_test, y_test)"
   ]
  }
 ],
 "metadata": {
  "accelerator": "GPU",
  "colab": {
   "collapsed_sections": [],
   "name": "Chapter5_NewPop.ipynb",
   "provenance": [],
   "toc_visible": true
  },
  "kernelspec": {
   "display_name": "Python 3 (ipykernel)",
   "language": "python",
   "name": "python3"
  },
  "language_info": {
   "codemirror_mode": {
    "name": "ipython",
    "version": 3
   },
   "file_extension": ".py",
   "mimetype": "text/x-python",
   "name": "python",
   "nbconvert_exporter": "python",
   "pygments_lexer": "ipython3",
   "version": "3.8.10"
  }
 },
 "nbformat": 4,
 "nbformat_minor": 1
}
